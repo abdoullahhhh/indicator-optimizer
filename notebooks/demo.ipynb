{
 "cells": [
  {
   "cell_type": "markdown",
   "metadata": {},
   "source": [
    "# Demo: Optimize RSI-Momentum Trend\n",
    "This notebook shows how to use the compact package.\n"
   ]
  },
  {
   "cell_type": "code",
   "execution_count": null,
   "metadata": {},
   "outputs": [],
   "source": [
    "from src import SingleIndicatorStrategy\n",
    "from src.indicators import rsi_threshold_strategy, fetch_btc_yf\n",
    "import optuna\n",
    "import pandas as pd\n",
    "df = fetch_btc_yf('2018-01-01')\n",
    "strategy = SingleIndicatorStrategy()\n",
    "\n",
    "print('=== DEFAULT PARAMS RESULTS ===')\n",
    "signals = strategy.get_signals(df)\n",
    "pf = strategy.backtest(df, signals, plot=True)\n",
    "print(pf.stats())\n",
    "\n",
    "print('\\n=== OPTIMIZING PARAMETERS ===')\n",
    "best_params = strategy.optimize_params(df, n_trials=200, preset='balanced')\n",
    "print('Best params:', best_params)\n",
    "\n",
    "signals_opt = strategy.get_signals(df)\n",
    "pf_opt = strategy.backtest(df, signals_opt, plot=True)\n",
    "print('\\n=== OPTIMIZED PARAMS RESULTS ===')\n",
    "print(pf_opt.stats())\n"
   ]
  }
 ],
 "metadata": {
  "kernelspec": {
   "display_name": "Python 3",
   "language": "python",
   "name": "python3"
  }
 },
 "nbformat": 4,
 "nbformat_minor": 5
}
